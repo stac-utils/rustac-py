{
  "cells": [
    {
      "cell_type": "code",
      "execution_count": null,
      "metadata": {
        "collapsed": false
      },
      "outputs": [],
      "source": [
        "%matplotlib inline"
      ]
    },
    {
      "cell_type": "markdown",
      "metadata": {},
      "source": [
        "\n# Using object storage\n\n[obstore](https://github.com/developmentseed/obstore) is a new, powerful Python library for getting from and putting to object storage.\n**rustac** can use anything that implements [obstore.store.ObjectStore][], and also provides its own zero-dependency version in **rustac.store**.\n"
      ]
    },
    {
      "cell_type": "markdown",
      "metadata": {},
      "source": [
        "## Using **rustac.store**.\n\n"
      ]
    },
    {
      "cell_type": "code",
      "execution_count": null,
      "metadata": {
        "collapsed": false
      },
      "outputs": [],
      "source": [
        "import contextily\nimport pandas\nimport rustac\nfrom rustac.store import HTTPStore\nfrom geopandas import GeoDataFrame\n\nstore = HTTPStore(\"https://raw.githubusercontent.com/stac-utils/rustac-py/refs/heads/main/data\")\nitems = await rustac.read(\"100-sentinel-2-items.parquet\", store=store)\nprint(len(items[\"features\"]))\n\ndata_frame = GeoDataFrame.from_features(items)\ndata_frame[\"datetime\"] = pandas.to_datetime(data_frame[\"datetime\"])\naxis = data_frame.set_crs(epsg=4326).to_crs(epsg=3857).plot(alpha=0.5, edgecolor=\"k\")\ncontextily.add_basemap(axis, source=contextily.providers.CartoDB.Positron)\naxis.set_axis_off()"
      ]
    },
    {
      "cell_type": "markdown",
      "metadata": {},
      "source": [
        "There's a [whole set][rustac.store.ObjectStore] of provided object storage backends.\nSee <https://developmentseed.org/obstore/latest/authentication/> for how you might configure authenticate with those backends.\n\n"
      ]
    },
    {
      "cell_type": "markdown",
      "metadata": {},
      "source": [
        "## Using **obstore.store.ObjectStore**.\n\nIf you're doing work with **obstore** directly, you can re-use the same `ObjectStore`.\n\n"
      ]
    },
    {
      "cell_type": "code",
      "execution_count": null,
      "metadata": {
        "collapsed": false
      },
      "outputs": [],
      "source": [
        "from obstore.store import HTTPStore\n\nstore = HTTPStore(\"https://raw.githubusercontent.com/stac-utils/rustac-py/refs/heads/main/data\")\nitems = await rustac.read(\"100-sentinel-2-items.parquet\", store=store)\n\n# Notice how there's a warning?\n# That's because we have to copy the `ObjectStore` when we pass it in to **rustac**.\n# This means it can be a bit more efficient to use `rustac.store` if you're only working with **rustac**."
      ]
    }
  ],
  "metadata": {
    "kernelspec": {
      "display_name": "Python 3",
      "language": "python",
      "name": "python3"
    },
    "language_info": {
      "codemirror_mode": {
        "name": "ipython",
        "version": 3
      },
      "file_extension": ".py",
      "mimetype": "text/x-python",
      "name": "python",
      "nbconvert_exporter": "python",
      "pygments_lexer": "ipython3",
      "version": "3.12.3"
    }
  },
  "nbformat": 4,
  "nbformat_minor": 0
}