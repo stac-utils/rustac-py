{
 "cells": [
  {
   "cell_type": "markdown",
   "id": "ad11edb6",
   "metadata": {},
   "source": [
    "# Reading and plotting\n",
    "\n",
    "Read with our top-level `async` function."
   ]
  },
  {
   "cell_type": "code",
   "execution_count": 4,
   "id": "6e46c484",
   "metadata": {},
   "outputs": [
    {
     "data": {
      "text/plain": [
       "100"
      ]
     },
     "execution_count": 4,
     "metadata": {},
     "output_type": "execute_result"
    }
   ],
   "source": [
    "import rustac\n",
    "\n",
    "items = await rustac.read(\n",
    "    \"https://github.com/stac-utils/rustac-py/raw/refs/heads/main/data/100-sentinel-2-items.parquet\"\n",
    ")\n",
    "len(items[\"features\"])"
   ]
  },
  {
   "cell_type": "markdown",
   "id": "f7b04d9b",
   "metadata": {},
   "source": [
    "Let's take a look at some of the attributes of our STAC items."
   ]
  },
  {
   "cell_type": "code",
   "execution_count": 5,
   "id": "202499c6",
   "metadata": {},
   "outputs": [
    {
     "data": {
      "text/html": [
       "<div>\n",
       "<style scoped>\n",
       "    .dataframe tbody tr th:only-of-type {\n",
       "        vertical-align: middle;\n",
       "    }\n",
       "\n",
       "    .dataframe tbody tr th {\n",
       "        vertical-align: top;\n",
       "    }\n",
       "\n",
       "    .dataframe thead th {\n",
       "        text-align: right;\n",
       "    }\n",
       "</style>\n",
       "<table border=\"1\" class=\"dataframe\">\n",
       "  <thead>\n",
       "    <tr style=\"text-align: right;\">\n",
       "      <th></th>\n",
       "      <th>geometry</th>\n",
       "      <th>datetime</th>\n",
       "      <th>s2:snow_ice_percentage</th>\n",
       "    </tr>\n",
       "  </thead>\n",
       "  <tbody>\n",
       "    <tr>\n",
       "      <th>0</th>\n",
       "      <td>POLYGON ((-105.36543 39.65938, -105.34153 39.7...</td>\n",
       "      <td>2024-12-03 17:46:29.024000+00:00</td>\n",
       "      <td>3.488287</td>\n",
       "    </tr>\n",
       "    <tr>\n",
       "      <th>1</th>\n",
       "      <td>POLYGON ((-106.18317 40.64479, -104.88456 40.6...</td>\n",
       "      <td>2024-12-01 17:57:21.024000+00:00</td>\n",
       "      <td>47.351283</td>\n",
       "    </tr>\n",
       "    <tr>\n",
       "      <th>2</th>\n",
       "      <td>POLYGON ((-105.35345 39.65943, -105.33389 39.7...</td>\n",
       "      <td>2024-11-28 17:47:01.025000+00:00</td>\n",
       "      <td>56.806326</td>\n",
       "    </tr>\n",
       "    <tr>\n",
       "      <th>3</th>\n",
       "      <td>POLYGON ((-106.18317 40.64479, -104.88456 40.6...</td>\n",
       "      <td>2024-11-26 17:56:09.024000+00:00</td>\n",
       "      <td>0.588352</td>\n",
       "    </tr>\n",
       "    <tr>\n",
       "      <th>4</th>\n",
       "      <td>POLYGON ((-105.37083 39.65936, -105.34293 39.7...</td>\n",
       "      <td>2024-11-23 17:45:59.024000+00:00</td>\n",
       "      <td>0.048005</td>\n",
       "    </tr>\n",
       "    <tr>\n",
       "      <th>...</th>\n",
       "      <td>...</td>\n",
       "      <td>...</td>\n",
       "      <td>...</td>\n",
       "    </tr>\n",
       "    <tr>\n",
       "      <th>95</th>\n",
       "      <td>POLYGON ((-106.18317 40.64479, -104.88456 40.6...</td>\n",
       "      <td>2024-04-05 17:49:01.024000+00:00</td>\n",
       "      <td>48.347121</td>\n",
       "    </tr>\n",
       "    <tr>\n",
       "      <th>96</th>\n",
       "      <td>POLYGON ((-105.35378 39.65943, -105.34822 39.6...</td>\n",
       "      <td>2024-04-02 17:39:01.024000+00:00</td>\n",
       "      <td>4.604056</td>\n",
       "    </tr>\n",
       "    <tr>\n",
       "      <th>97</th>\n",
       "      <td>POLYGON ((-106.18317 40.64479, -104.88456 40.6...</td>\n",
       "      <td>2024-03-31 17:49:09.024000+00:00</td>\n",
       "      <td>23.157783</td>\n",
       "    </tr>\n",
       "    <tr>\n",
       "      <th>98</th>\n",
       "      <td>POLYGON ((-105.36759 39.65937, -105.33057 39.7...</td>\n",
       "      <td>2024-03-28 17:38:59.024000+00:00</td>\n",
       "      <td>3.135089</td>\n",
       "    </tr>\n",
       "    <tr>\n",
       "      <th>99</th>\n",
       "      <td>POLYGON ((-106.18317 40.64479, -104.88456 40.6...</td>\n",
       "      <td>2024-03-26 17:49:51.024000+00:00</td>\n",
       "      <td>32.571989</td>\n",
       "    </tr>\n",
       "  </tbody>\n",
       "</table>\n",
       "<p>100 rows × 3 columns</p>\n",
       "</div>"
      ],
      "text/plain": [
       "                                             geometry  \\\n",
       "0   POLYGON ((-105.36543 39.65938, -105.34153 39.7...   \n",
       "1   POLYGON ((-106.18317 40.64479, -104.88456 40.6...   \n",
       "2   POLYGON ((-105.35345 39.65943, -105.33389 39.7...   \n",
       "3   POLYGON ((-106.18317 40.64479, -104.88456 40.6...   \n",
       "4   POLYGON ((-105.37083 39.65936, -105.34293 39.7...   \n",
       "..                                                ...   \n",
       "95  POLYGON ((-106.18317 40.64479, -104.88456 40.6...   \n",
       "96  POLYGON ((-105.35378 39.65943, -105.34822 39.6...   \n",
       "97  POLYGON ((-106.18317 40.64479, -104.88456 40.6...   \n",
       "98  POLYGON ((-105.36759 39.65937, -105.33057 39.7...   \n",
       "99  POLYGON ((-106.18317 40.64479, -104.88456 40.6...   \n",
       "\n",
       "                           datetime  s2:snow_ice_percentage  \n",
       "0  2024-12-03 17:46:29.024000+00:00                3.488287  \n",
       "1  2024-12-01 17:57:21.024000+00:00               47.351283  \n",
       "2  2024-11-28 17:47:01.025000+00:00               56.806326  \n",
       "3  2024-11-26 17:56:09.024000+00:00                0.588352  \n",
       "4  2024-11-23 17:45:59.024000+00:00                0.048005  \n",
       "..                              ...                     ...  \n",
       "95 2024-04-05 17:49:01.024000+00:00               48.347121  \n",
       "96 2024-04-02 17:39:01.024000+00:00                4.604056  \n",
       "97 2024-03-31 17:49:09.024000+00:00               23.157783  \n",
       "98 2024-03-28 17:38:59.024000+00:00                3.135089  \n",
       "99 2024-03-26 17:49:51.024000+00:00               32.571989  \n",
       "\n",
       "[100 rows x 3 columns]"
      ]
     },
     "execution_count": 5,
     "metadata": {},
     "output_type": "execute_result"
    }
   ],
   "source": [
    "import pandas\n",
    "from geopandas import GeoDataFrame\n",
    "\n",
    "data_frame = GeoDataFrame.from_features(items)\n",
    "data_frame[\"datetime\"] = pandas.to_datetime(data_frame[\"datetime\"])\n",
    "data_frame[[\"geometry\", \"datetime\", \"s2:snow_ice_percentage\"]]"
   ]
  },
  {
   "cell_type": "markdown",
   "id": "5554b3a5",
   "metadata": {},
   "source": [
    "How does the snow and ice percentage vary over the year?"
   ]
  },
  {
   "cell_type": "code",
   "execution_count": 3,
   "id": "3e2fa4bf",
   "metadata": {},
   "outputs": [
    {
     "data": {
      "image/png": "[encoded data removed]",
      "text/plain": [
       "<Figure size 640x480 with 1 Axes>"
      ]
     },
     "metadata": {},
     "output_type": "display_data"
    }
   ],
   "source": [
    "from matplotlib.dates import DateFormatter\n",
    "\n",
    "axis = data_frame.plot(x=\"datetime\", y=\"s2:snow_ice_percentage\", kind=\"scatter\")\n",
    "axis.xaxis.set_major_formatter(DateFormatter(\"%b\"))"
   ]
  }
 ],
 "metadata": {
  "kernelspec": {
   "display_name": ".venv",
   "language": "python",
   "name": "python3"
  },
  "language_info": {
   "codemirror_mode": {
    "name": "ipython",
    "version": 3
   },
   "file_extension": ".py",
   "mimetype": "text/x-python",
   "name": "python",
   "nbconvert_exporter": "python",
   "pygments_lexer": "ipython3",
   "version": "3.13.2"
  }
 },
 "nbformat": 4,
 "nbformat_minor": 5
}
