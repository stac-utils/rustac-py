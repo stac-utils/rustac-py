{
 "cells": [
  {
   "cell_type": "markdown",
   "id": "23e8ca35",
   "metadata": {},
   "source": [
    "# ITS_LIVE case study\n",
    "\n",
    "An example of using **rustac** with [ITS_LIVE](https://its-live.jpl.nasa.gov/) STAC data.\n",
    "We'll start just by looking at the Landsat ndjson.\n",
    "\n",
    "<div class=\"admonition note\">\n",
    "    <p class=\"admonition-title\">AWS credentials</p>\n",
    "    <p>\n",
    "        You'll want to make sure you're running this notebook with your AWS credentials configured in your environment, and set your default region to us-west-2.\n",
    "    </p>\n",
    "</div>"
   ]
  },
  {
   "cell_type": "code",
   "execution_count": 2,
   "id": "a8a0bf03",
   "metadata": {},
   "outputs": [],
   "source": [
    "from pathlib import Path\n",
    "from obstore.store import S3Store\n",
    "\n",
    "destination = Path(\"../../data/its-live\")\n",
    "source_store = S3Store(\n",
    "    bucket=\"its-live-data\", prefix=\"test-space/stac_catalogs/landsatOLI/v02\"\n",
    ")"
   ]
  },
  {
   "cell_type": "markdown",
   "id": "812b1fe1",
   "metadata": {},
   "source": [
    "Let's list all of the ndjson files."
   ]
  },
  {
   "cell_type": "code",
   "execution_count": 3,
   "id": "d7a7afdd",
   "metadata": {},
   "outputs": [
    {
     "name": "stdout",
     "output_type": "stream",
     "text": [
      "Found 5134 paths with sizes ranging from 2.9 kB to 233.0 MB\n",
      "Total size of the files is 28.7 GB\n"
     ]
    }
   ],
   "source": [
    "import humanize\n",
    "\n",
    "paths = []\n",
    "sizes = []\n",
    "for list_stream in source_store.list():\n",
    "    for object_meta in list_stream:\n",
    "        paths.append(object_meta[\"path\"])\n",
    "        sizes.append(object_meta[\"size\"])\n",
    "\n",
    "print(\n",
    "    f\"Found {len(paths)} paths with sizes ranging from {humanize.naturalsize(min(sizes))} to {humanize.naturalsize(max(sizes))}\"\n",
    ")\n",
    "print(f\"Total size of the files is {humanize.naturalsize(sum(sizes))}\")"
   ]
  },
  {
   "cell_type": "markdown",
   "id": "b7161cba",
   "metadata": {},
   "source": [
    "That's a lot of data!\n",
    "We'd like to make one or more STAC Collections from it, but we don't really want to store that much ndjson locally.\n",
    "**stac-geoparquet** is much more compact (especially when compressed) so let's copy-and-convert.\n",
    "\n",
    "This will take a while, on the order of an hour or two.\n",
    "An implementation using in-region resources would be faster.\n",
    "\n",
    "<div class=\"admonition note\">\n",
    "    <p class=\"admonition-title\">Backfilling errors</p>\n",
    "    <p>\n",
    "        The block includes a check for already-existing files, so you can run it multiple times to pick up any files that errored.\n",
    "    </p>\n",
    "</div>"
   ]
  },
  {
   "cell_type": "code",
   "execution_count": null,
   "id": "1933f2c2",
   "metadata": {},
   "outputs": [],
   "source": [
    "from asyncio import TaskGroup, Semaphore\n",
    "import tqdm\n",
    "import rustac\n",
    "\n",
    "# Limit the number of files we hold in memory at a time\n",
    "semaphore = Semaphore(10)\n",
    "# Store the ones that error, it's the internet after all, things will error\n",
    "missed_paths = []\n",
    "\n",
    "\n",
    "async def copy_and_convert(\n",
    "    source_path: str, source_store, destination_path: Path, progress_bar: tqdm.tqdm\n",
    ") -> None:\n",
    "    async with semaphore:\n",
    "        try:\n",
    "            value = await rustac.read(source_path, store=source_store)\n",
    "        except Exception:\n",
    "            missed_paths.append(path)\n",
    "            progress_bar.update()\n",
    "            return\n",
    "\n",
    "        await rustac.write(str(destination_path), value)\n",
    "\n",
    "        progress_bar.update()\n",
    "\n",
    "\n",
    "progress_bar = tqdm.tqdm(total=len(paths), miniters=1)\n",
    "async with TaskGroup() as task_group:\n",
    "    for path in paths:\n",
    "        destination_path = Path(destination / path).with_suffix(\".parquet\")\n",
    "        if destination_path.exists():\n",
    "            progress_bar.update()\n",
    "        else:\n",
    "            task_group.create_task(\n",
    "                copy_and_convert(path, source_store, destination_path, progress_bar)\n",
    "            )"
   ]
  },
  {
   "cell_type": "markdown",
   "id": "287045de",
   "metadata": {},
   "source": [
    "Alright!\n",
    "Let's see what we got."
   ]
  },
  {
   "cell_type": "code",
   "execution_count": 6,
   "id": "85348f6c",
   "metadata": {},
   "outputs": [
    {
     "name": "stdout",
     "output_type": "stream",
     "text": [
      "0 files errored\n",
      "The 5134 stac-geoparquet files are 3.6 GB\n",
      "That's 12.53% of the original size\n"
     ]
    }
   ],
   "source": [
    "import os.path\n",
    "\n",
    "print(f\"{len(missed_paths)} files errored\")\n",
    "\n",
    "count = 0\n",
    "size = 0\n",
    "for path in destination.glob(\"**/*.parquet\"):\n",
    "    count += 1\n",
    "    size += os.path.getsize(path)\n",
    "\n",
    "print(f\"The {count} stac-geoparquet files are {humanize.naturalsize(size)}\")\n",
    "print(f\"That's {100 * size / sum(sizes):.2f}% of the original size\")"
   ]
  },
  {
   "cell_type": "markdown",
   "id": "af91a914",
   "metadata": {},
   "source": [
    "Very cool.\n",
    "We can use [DuckDB](https://duckdb.org/) to search into the files."
   ]
  },
  {
   "cell_type": "code",
   "execution_count": 7,
   "id": "6db49d82",
   "metadata": {},
   "outputs": [
    {
     "data": {
      "text/plain": [
       "┌──────────────┐\n",
       "│ count_star() │\n",
       "│    int64     │\n",
       "├──────────────┤\n",
       "│      9907260 │\n",
       "└──────────────┘"
      ]
     },
     "execution_count": 7,
     "metadata": {},
     "output_type": "execute_result"
    }
   ],
   "source": [
    "import duckdb\n",
    "\n",
    "duckdb.sql(f\"select count(*) from read_parquet('{destination}/**/*.parquet')\")"
   ]
  },
  {
   "cell_type": "markdown",
   "id": "fa5e6374",
   "metadata": {},
   "source": [
    "DuckDB recommends that each partition contains [100 MB](https://duckdb.org/docs/stable/data/partitioning/partitioned_writes.html#partitioned-writes) of data, but some of our files are much smaller.\n",
    "Let's re-partition our data by year to get larger partitions."
   ]
  },
  {
   "cell_type": "code",
   "execution_count": 22,
   "id": "e555066c",
   "metadata": {},
   "outputs": [],
   "source": [
    "partitioned_destination = \"../../data/its-live-partitioned\"\n",
    "# We limit the number of open files to not hose our processor, it defaults to 100\n",
    "duckdb.sql(\"set partitioned_write_max_open_files = 4;\")\n",
    "duckdb.sql(\n",
    "    f\"copy (select *, year(datetime) as year from read_parquet('{destination}/**/*.parquet', union_by_name=true)) to '{partitioned_destination}' (format parquet, partition_by (year), overwrite_or_ignore)\"\n",
    ")"
   ]
  },
  {
   "cell_type": "markdown",
   "id": "f40a2807",
   "metadata": {},
   "source": [
    "We can now query by year effectively."
   ]
  },
  {
   "cell_type": "code",
   "execution_count": 24,
   "id": "80ead1a2",
   "metadata": {},
   "outputs": [
    {
     "data": {
      "text/plain": [
       "┌──────────────┐\n",
       "│ count_star() │\n",
       "│    int64     │\n",
       "├──────────────┤\n",
       "│      1278258 │\n",
       "└──────────────┘"
      ]
     },
     "execution_count": 24,
     "metadata": {},
     "output_type": "execute_result"
    }
   ],
   "source": [
    "duckdb.sql(\n",
    "    f\"select count(*) from read_parquet('{partitioned_destination}/**/*.parquet') where year = 2024\"\n",
    ")"
   ]
  },
  {
   "cell_type": "code",
   "execution_count": 19,
   "id": "0dd70787",
   "metadata": {},
   "outputs": [
    {
     "data": {
      "text/plain": [
       "┌──────────────────────┐\n",
       "│     column_name      │\n",
       "│       varchar        │\n",
       "├──────────────────────┤\n",
       "│ type                 │\n",
       "│ stac_version         │\n",
       "│ stac_extensions      │\n",
       "│ id                   │\n",
       "│ version              │\n",
       "│ proj:code            │\n",
       "│ links                │\n",
       "│ assets               │\n",
       "│ collection           │\n",
       "│ datetime             │\n",
       "│    ·                 │\n",
       "│    ·                 │\n",
       "│    ·                 │\n",
       "│ platform             │\n",
       "│ scene_1_id           │\n",
       "│ scene_2_id           │\n",
       "│ scene_1_path_row     │\n",
       "│ scene_2_path_row     │\n",
       "│ sat:orbit_state      │\n",
       "│ percent_valid_pixels │\n",
       "│ bbox                 │\n",
       "│ geometry             │\n",
       "│ year                 │\n",
       "├──────────────────────┤\n",
       "│  27 rows (20 shown)  │\n",
       "└──────────────────────┘"
      ]
     },
     "execution_count": 19,
     "metadata": {},
     "output_type": "execute_result"
    }
   ],
   "source": [
    "duckdb.sql(\n",
    "    f\"select column_name from (describe select * from read_parquet('{partitioned_destination}/**/*.parquet'))\"\n",
    ")"
   ]
  },
  {
   "cell_type": "markdown",
   "id": "9c9c8844",
   "metadata": {},
   "source": [
    "Each partition's files is still **stac-geoparquet**, so we can read them back in if we want.\n",
    "Most of them are pretty big, so we intentionally pick a smaller one for this example."
   ]
  },
  {
   "cell_type": "code",
   "execution_count": 10,
   "id": "cb353cb5",
   "metadata": {},
   "outputs": [
    {
     "name": "stdout",
     "output_type": "stream",
     "text": [
      "23\n"
     ]
    }
   ],
   "source": [
    "item_collection = await rustac.read(\n",
    "    str(Path(partitioned_destination) / \"year=1982\" / \"data_0.parquet\")\n",
    ")\n",
    "print(len(item_collection[\"features\"]))"
   ]
  },
  {
   "cell_type": "markdown",
   "id": "4886e961",
   "metadata": {},
   "source": [
    "## Searching\n",
    "\n",
    "One of **rustac**'s features is the ability to use [STAC API search](https://api.stacspec.org/v1.0.0/item-search/) against **stac-geoparquet** files, no server required.\n",
    "We can use a [cql2](https://github.com/developmentseed/cql2-rs/) filter to query by attributes."
   ]
  },
  {
   "cell_type": "code",
   "execution_count": 15,
   "id": "89b7e0b2",
   "metadata": {},
   "outputs": [
    {
     "name": "stdout",
     "output_type": "stream",
     "text": [
      "39696\n"
     ]
    }
   ],
   "source": [
    "import cql2\n",
    "\n",
    "href = str(Path(partitioned_destination) / \"**\" / \"*.parquet\")\n",
    "cql2_json = cql2.parse_text(\"percent_valid_pixels=100\").to_json()\n",
    "items = await rustac.search(href, filter=cql2_json)\n",
    "print(len(items))"
   ]
  },
  {
   "cell_type": "markdown",
   "id": "569bc117",
   "metadata": {},
   "source": [
    "If we know we're going to go to a **geopandas** `GeoDataFrame`, we can search directly to an **arrow** table to make things a bit more efficient.\n",
    "To do so, we'll need to use **rustac**'s `DuckdbClient`."
   ]
  },
  {
   "cell_type": "code",
   "execution_count": 18,
   "id": "c7e2f43a",
   "metadata": {},
   "outputs": [
    {
     "data": {
      "text/plain": [
       "<Axes: >"
      ]
     },
     "execution_count": 18,
     "metadata": {},
     "output_type": "execute_result"
    },
    {
     "data": {
      "image/png": "[encoded data removed]",
      "text/plain": [
       "<Figure size 640x480 with 1 Axes>"
      ]
     },
     "metadata": {},
     "output_type": "display_data"
    }
   ],
   "source": [
    "from rustac import DuckdbClient\n",
    "from geopandas import GeoDataFrame\n",
    "\n",
    "client = DuckdbClient()\n",
    "table = client.search_to_arrow(href, filter=cql2_json)\n",
    "data_frame = GeoDataFrame.from_arrow(table)\n",
    "data_frame.plot()"
   ]
  },
  {
   "cell_type": "markdown",
   "id": "aff144a0",
   "metadata": {},
   "source": [
    "## Performance\n",
    "\n",
    "Let's do a small investigation into the performance characteristics of the two (partitioned, non-partitioned) datasets.\n",
    "We've uploaded them to the bucket `stac-fastapi-geoparquet-labs-375`, which is public via [requester pays](https://docs.aws.amazon.com/AmazonS3/latest/userguide/RequesterPaysBuckets.html).\n",
    "In all these examples, we've limited the returned item count to `10`."
   ]
  },
  {
   "cell_type": "code",
   "execution_count": 1,
   "id": "e6da363e",
   "metadata": {},
   "outputs": [
    {
     "name": "stderr",
     "output_type": "stream",
     "text": [
      "building \"rustac\"\n",
      "rebuilt and loaded package \"rustac\" in 8.977s\n"
     ]
    },
    {
     "name": "stdout",
     "output_type": "stream",
     "text": [
      "Getting the first ten items\n",
      "Got 10 items from the non-partitioned dataset in 7.33 seconds\n",
      "Got 10 items from the partitioned dataset in 1.34 seconds\n"
     ]
    }
   ],
   "source": [
    "import time\n",
    "from rustac import DuckdbClient\n",
    "\n",
    "client = DuckdbClient()\n",
    "\n",
    "href = \"s3://stac-fastapi-geoparquet-labs-375/its-live/**/*.parquet\"\n",
    "href_partitioned = (\n",
    "    \"s3://stac-fastapi-geoparquet-labs-375/its-live-partitioned/**/*.parquet\"\n",
    ")\n",
    "\n",
    "print(\"Getting the first ten items\")\n",
    "start = time.time()\n",
    "items = client.search(href, limit=10)\n",
    "print(\n",
    "    f\"Got {len(items)} items from the non-partitioned dataset in {time.time() - start:.2f} seconds\"\n",
    ")\n",
    "\n",
    "start = time.time()\n",
    "items = client.search(href_partitioned, limit=10)\n",
    "print(\n",
    "    f\"Got {len(items)} items from the partitioned dataset in {time.time() - start:.2f} seconds\"\n",
    ")"
   ]
  },
  {
   "cell_type": "code",
   "execution_count": 2,
   "id": "4e631b6d",
   "metadata": {},
   "outputs": [
    {
     "name": "stdout",
     "output_type": "stream",
     "text": [
      "Searching by year\n",
      "Got 10 items from 2024 from the non-partitioned dataset in 19.33 seconds\n",
      "Got 10 items from 2024 the partitioned dataset in 62.54 seconds\n"
     ]
    }
   ],
   "source": [
    "print(\"Searching by year\")\n",
    "start = time.time()\n",
    "items = client.search(\n",
    "    href, limit=10, datetime=\"2024-01-01T00:00:00Z/2024-12-31T23:59:59Z\"\n",
    ")\n",
    "print(\n",
    "    f\"Got {len(items)} items from 2024 from the non-partitioned dataset in {time.time() - start:.2f} seconds\"\n",
    ")\n",
    "\n",
    "start = time.time()\n",
    "items = client.search(\n",
    "    href_partitioned, limit=10, datetime=\"2024-01-01T00:00:00Z/2024-12-31T23:59:59Z\"\n",
    ")\n",
    "print(\n",
    "    f\"Got {len(items)} items from 2024 the partitioned dataset in {time.time() - start:.2f} seconds\"\n",
    ")"
   ]
  },
  {
   "cell_type": "markdown",
   "id": "e0d8965a",
   "metadata": {},
   "source": [
    "The non-partitioned dataset has much smaller files, so the search for the first ten items in 2024 didn't take as long because it didn't have to read in large datasets across the network.\n",
    "Let's use the `year` partitioning filter to speed things up."
   ]
  },
  {
   "cell_type": "code",
   "execution_count": 3,
   "id": "28b83009",
   "metadata": {},
   "outputs": [
    {
     "name": "stdout",
     "output_type": "stream",
     "text": [
      "Got 10 items from 2024 the partitioned dataset, using `year`, in 1.09 seconds\n"
     ]
    }
   ],
   "source": [
    "start = time.time()\n",
    "items = client.search(\n",
    "    href_partitioned,\n",
    "    limit=10,\n",
    "    datetime=\"2024-01-01T00:00:00Z/2024-12-31T23:59:59Z\",\n",
    "    filter=\"year=2024\",\n",
    ")\n",
    "print(\n",
    "    f\"Got {len(items)} items from 2024 the partitioned dataset, using `year`, in {time.time() - start:.2f} seconds\"\n",
    ")"
   ]
  },
  {
   "cell_type": "markdown",
   "id": "e54bdca1",
   "metadata": {},
   "source": [
    "Much better.\n",
    "Now let's try a spatial search.\n",
    "During local testing, we determined that it wasn't even worth it to try against the non-partitioned dataset, as it takes too long."
   ]
  },
  {
   "cell_type": "code",
   "execution_count": 5,
   "id": "a9fad4df",
   "metadata": {},
   "outputs": [
    {
     "name": "stdout",
     "output_type": "stream",
     "text": [
      "Got 10 items over Helheim Glacier from the partitioned dataset in 9.33 seconds\n"
     ]
    }
   ],
   "source": [
    "helheim = {\"type\": \"Point\", \"coordinates\": [-38.2, 66.65]}\n",
    "\n",
    "start = time.time()\n",
    "items = client.search(href_partitioned, limit=10, intersects=helheim)\n",
    "print(\n",
    "    f\"Got {len(items)} items over Helheim Glacier from the partitioned dataset in {time.time() - start:.2f} seconds\"\n",
    ")"
   ]
  },
  {
   "cell_type": "markdown",
   "id": "34cf6b59",
   "metadata": {},
   "source": [
    "For experimentation, we've also got a [stac-fastapi-geoparquet](https://github.com/stac-utils/stac-fastapi-geoparquet/) server pointing to the same partitioned dataset.\n",
    "Since spatial queries take a lot of data transfer from the DuckDB client to blob storage, is it any faster to query using the **stac-fastapi-geoparquet** lambda?"
   ]
  },
  {
   "cell_type": "code",
   "execution_count": 7,
   "id": "000e1cd9",
   "metadata": {},
   "outputs": [
    {
     "name": "stdout",
     "output_type": "stream",
     "text": [
      "Got 10 items over Helheim Glacier from the stac-fastapi-geoparquet server in 2.25 seconds\n"
     ]
    }
   ],
   "source": [
    "import rustac\n",
    "import requests\n",
    "\n",
    "# Make sure the lambda is started\n",
    "response = requests.get(\"https://stac-geoparquet.labs.eoapi.dev\")\n",
    "response.raise_for_status()\n",
    "\n",
    "start = time.time()\n",
    "items = await rustac.search(\n",
    "    \"https://stac-geoparquet.labs.eoapi.dev\",\n",
    "    collections=[\"its-live-partitioned\"],\n",
    "    intersects=helheim,\n",
    "    max_items=10,\n",
    ")\n",
    "print(\n",
    "    f\"Got {len(items)} items over Helheim Glacier from the stac-fastapi-geoparquet server in {time.time() - start:.2f} seconds\"\n",
    ")"
   ]
  }
 ],
 "metadata": {
  "kernelspec": {
   "display_name": ".venv",
   "language": "python",
   "name": "python3"
  },
  "language_info": {
   "codemirror_mode": {
    "name": "ipython",
    "version": 3
   },
   "file_extension": ".py",
   "mimetype": "text/x-python",
   "name": "python",
   "nbconvert_exporter": "python",
   "pygments_lexer": "ipython3",
   "version": "3.13.2"
  }
 },
 "nbformat": 4,
 "nbformat_minor": 5
}
