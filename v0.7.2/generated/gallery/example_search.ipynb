{
  "cells": [
    {
      "cell_type": "code",
      "execution_count": null,
      "metadata": {
        "collapsed": false
      },
      "outputs": [],
      "source": [
        "%matplotlib inline"
      ]
    },
    {
      "cell_type": "markdown",
      "metadata": {},
      "source": [
        "\n# Searching\n"
      ]
    },
    {
      "cell_type": "markdown",
      "metadata": {},
      "source": [
        "Search a STAC API with `rustac.search`:\n\n"
      ]
    },
    {
      "cell_type": "code",
      "execution_count": null,
      "metadata": {
        "collapsed": false
      },
      "outputs": [],
      "source": [
        "import contextily\nimport pandas\nimport rustac\nfrom geopandas import GeoDataFrame\n\nitems = await rustac.search(\n    \"https://stac.eoapi.dev\",\n    collections=\"MAXAR_Marshall_Fire_21_Update\"\n)\ndata_frame = GeoDataFrame.from_features(items)\ndata_frame[\"datetime\"] = pandas.to_datetime(data_frame[\"datetime\"])\naxis = data_frame.set_crs(epsg=4326).to_crs(epsg=3857).plot(alpha=0.5, edgecolor=\"k\")\ncontextily.add_basemap(axis, source=contextily.providers.CartoDB.Positron)\naxis.set_axis_off()"
      ]
    },
    {
      "cell_type": "markdown",
      "metadata": {},
      "source": [
        "Search [stac-geoparquet](https://github.com/stac-utils/stac-geoparquet/blob/main/spec/stac-geoparquet-spec.md) with [DuckDB](https://duckdb.org/), no servers required!\n\n"
      ]
    },
    {
      "cell_type": "code",
      "execution_count": null,
      "metadata": {
        "collapsed": false
      },
      "outputs": [],
      "source": [
        "items = await rustac.search(\n    \"../../data/100-sentinel-2-items.parquet\",\n    datetime=\"2024-12-01T00:00:00Z/..\",\n)\ndata_frame = GeoDataFrame.from_features(items)\ndata_frame[\"datetime\"] = pandas.to_datetime(data_frame[\"datetime\"])\ndata_frame[[\"datetime\", \"geometry\"]]"
      ]
    },
    {
      "cell_type": "markdown",
      "metadata": {},
      "source": [
        "If you know you're going to a [geopandas.GeoDataFrame][] (or something else that speaks\narrow), you can use the `arrow` optional dependency for **rustac** (`pip\ninstall 'rustac[arrow]'`) and search directly to arrow, which can be more\nefficient than going through JSON dictionaries:\n\n"
      ]
    },
    {
      "cell_type": "code",
      "execution_count": null,
      "metadata": {
        "collapsed": false
      },
      "outputs": [],
      "source": [
        "from rustac import DuckdbClient\n\nclient = DuckdbClient()\ntable = client.search_to_arrow(\n    \"../../data/100-sentinel-2-items.parquet\",\n    datetime=\"2024-12-01T00:00:00Z/..\",\n)\ndata_frame = GeoDataFrame.from_arrow(table)\ndata_frame[[\"datetime\", \"geometry\"]]"
      ]
    }
  ],
  "metadata": {
    "kernelspec": {
      "display_name": "Python 3",
      "language": "python",
      "name": "python3"
    },
    "language_info": {
      "codemirror_mode": {
        "name": "ipython",
        "version": 3
      },
      "file_extension": ".py",
      "mimetype": "text/x-python",
      "name": "python",
      "nbconvert_exporter": "python",
      "pygments_lexer": "ipython3",
      "version": "3.12.3"
    }
  },
  "nbformat": 4,
  "nbformat_minor": 0
}